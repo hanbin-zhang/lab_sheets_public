{
 "cells": [
  {
   "cell_type": "markdown",
   "metadata": {},
   "source": [
    "# Lab 7: Decision Trees and Ensemble Methods\n",
    "\n",
    "This week we will explore the use of decision trees for simple classification tasks. We will then look at how collections of decision trees (or other machine learning models) can trained on the same dataset and combined to enhance predictive performance. Specifically, we will look at bagging, random forests and boosting which are all related examples of ensemble methods.\n",
    "\n",
    "Before starting, make sure to install the `graphviz` package installed using `conda install python-graphviz`. "
   ]
  },
  {
   "cell_type": "code",
   "execution_count": 69,
   "metadata": {},
   "outputs": [
    {
     "name": "stdout",
     "output_type": "stream",
     "text": [
      "%pylab is deprecated, use %matplotlib inline and import the required libraries.\n",
      "Populating the interactive namespace from numpy and matplotlib\n"
     ]
    },
    {
     "name": "stderr",
     "output_type": "stream",
     "text": [
      "C:\\Users\\HBZT\\.conda\\envs\\pymc39\\lib\\site-packages\\IPython\\core\\magics\\pylab.py:162: UserWarning: pylab import has clobbered these variables: ['random', 'sample']\n",
      "`%matplotlib` prevents importing * from pylab and numpy\n",
      "  warn(\"pylab import has clobbered these variables: %s\"  % clobbered +\n"
     ]
    }
   ],
   "source": [
    "%pylab inline\n",
    "\n",
    "import numpy as np\n",
    "import matplotlib.pyplot as plt\n",
    "import sklearn\n",
    "from sklearn import datasets\n",
    "from sklearn.model_selection import train_test_split\n",
    "from sklearn.datasets import fetch_openml\n",
    "\n",
    "from sklearn.tree import DecisionTreeClassifier\n",
    "from sklearn.metrics import accuracy_score\n",
    "\n",
    "import graphviz"
   ]
  },
  {
   "cell_type": "markdown",
   "metadata": {},
   "source": [
    "## 1) Decision Trees\n",
    "\n",
    "Decision trees are a very simple machine learning technique that can be surprisingly powerful and offer a much more easily interpretable decision making process than many other methods. As the name suggests, decision trees are comprised of a set of nodes in a tree structure. All non-terminal nodes are called *decision nodes* which typically have two child nodes and contain a conditional expression involving a single feature of the input data. For a given input, starting at the root node, this condition is evaluated and this determines which of the two child nodes are selected for evaluation next. Once a *leaf node* is reached, the decision tree is able to produce an output class (classification) or a target value (regression). In this lab we will focus on the case of classification tasks.\n",
    "\n",
    "For a given dataset of input-output pairs, there are a number of ways to construct a decision tree that can accurately classify the set of examples. We will be using the implementation of decision trees from the scikit-learn library which uses the CART (Classification And Regression Tree) algorithm with the Gini impurity criterion (see [this](https://victorzhou.com/blog/gini-impurity/) for simple explanation of Gini impurity). This algorithm can be summarised as follows:\n",
    "1. **Obtaining the root node**: Test the possible splits of the dataset using conditions involving each of the input features and measure the Gini impurity of each split. The root node is given by the split that minimises the weighted sum of the Gini impurities of the two branches. The weights are equal to the number of data points that satisfy the condition of the corresponding branch.\n",
    "2. **Creating the remaining decision nodes**: Iteratively follow the same process as step 1 using only the data points that match the conditions necessary to reach this point in the tree.\n",
    "3. **Creating the Leaf nodes**: These nodes are created when one of the stopping criteria is met. This set of criteria includes the case where all points of each class have been completely separated by a split (i.e. when the impurity is 0) or when some maximum depth has been reached."
   ]
  },
  {
   "cell_type": "markdown",
   "metadata": {},
   "source": [
    "### 1.1) Training a Decision Tree Classifier\n",
    "\n",
    "To start off, we will load in a classification dataset from scikit-learn: [the famous iris flower dataset](https://scikit-learn.org/stable/auto_examples/datasets/plot_iris_dataset.html#sphx-glr-auto-examples-datasets-plot-iris-dataset-py), compiled by Ronald Fisher in 1936. This is often used as a toy dataset for machine learning and contains three classes (species of Iris) with a number of named features such as petal length and width. The code below loads in the iris dataset but also includes the code to load in several other datasets that you can test your decision tree or ensemble methods on. These are commented out for now but you may wish to explore them later."
   ]
  },
  {
   "cell_type": "code",
   "execution_count": 70,
   "metadata": {},
   "outputs": [],
   "source": [
    "dataset = datasets.load_iris()\n",
    "#dataset = datasets.load_wine()\n",
    "#dataset = datasets.load_digits()\n",
    "\n",
    "X = np.array(dataset['data'])\n",
    "X_feature_names = dataset['feature_names']\n",
    "y = np.array(dataset['target'])\n",
    "y_target_names = dataset['target_names']\n",
    "\n",
    "# 60% training, 20% dev and 20% test\n",
    "random.seed(8)\n",
    "X_train, X_test, y_train, y_test = train_test_split(X, y, test_size=0.2) \n",
    "X_train, X_validation, y_train, y_validation = train_test_split(X_train, y_train, test_size = 0.25)"
   ]
  },
  {
   "cell_type": "markdown",
   "metadata": {},
   "source": [
    "### 1.1) Training a Decision Tree Classifier\n",
    "\n",
    "Use scikit-learn to train a [DecisionTreeClassifier](https://scikit-learn.org/stable/modules/generated/sklearn.tree.DecisionTreeClassifier.html#sklearn.tree.DecisionTreeClassifier), with the name `model`, on the Iris dataset and compute its accuracy score on both the training and test set."
   ]
  },
  {
   "cell_type": "code",
   "execution_count": 71,
   "metadata": {},
   "outputs": [
    {
     "name": "stdout",
     "output_type": "stream",
     "text": [
      "1.0\n",
      "0.9\n"
     ]
    }
   ],
   "source": [
    "# write your code here\n",
    "model = DecisionTreeClassifier(random_state=0)\n",
    "\n",
    "model = model.fit(X_train, y_train)\n",
    "print(model.score(X_train, y_train))\n",
    "print(model.score(X_test, y_test))"
   ]
  },
  {
   "cell_type": "markdown",
   "metadata": {},
   "source": [
    "Is the model overfitting to the training data?"
   ]
  },
  {
   "cell_type": "markdown",
   "metadata": {},
   "source": [
    "### 1.2) Visualise the tree\n",
    "\n",
    "The code below has been provided to create a visualisation for your decision tree. This cell will also print out a number of examples from the test set along with your tree's predictions to help you understand how the classification is being made. Run the cell and try to answer the questions that follow."
   ]
  },
  {
   "cell_type": "code",
   "execution_count": 72,
   "metadata": {
    "scrolled": false
   },
   "outputs": [
    {
     "data": {
      "image/svg+xml": "<?xml version=\"1.0\" encoding=\"UTF-8\" standalone=\"no\"?>\n<!DOCTYPE svg PUBLIC \"-//W3C//DTD SVG 1.1//EN\"\n \"http://www.w3.org/Graphics/SVG/1.1/DTD/svg11.dtd\">\n<!-- Generated by graphviz version 2.50.0 (0)\n -->\n<!-- Title: Tree Pages: 1 -->\n<svg width=\"437pt\" height=\"552pt\"\n viewBox=\"0.00 0.00 437.00 552.00\" xmlns=\"http://www.w3.org/2000/svg\" xmlns:xlink=\"http://www.w3.org/1999/xlink\">\n<g id=\"graph0\" class=\"graph\" transform=\"scale(1 1) rotate(0) translate(4 548)\">\n<title>Tree</title>\n<polygon fill=\"white\" stroke=\"transparent\" points=\"-4,4 -4,-548 433,-548 433,4 -4,4\"/>\n<!-- 0 -->\n<g id=\"node1\" class=\"node\">\n<title>0</title>\n<path fill=\"#fef9f5\" stroke=\"black\" d=\"M197.5,-544C197.5,-544 75.5,-544 75.5,-544 69.5,-544 63.5,-538 63.5,-532 63.5,-532 63.5,-473 63.5,-473 63.5,-467 69.5,-461 75.5,-461 75.5,-461 197.5,-461 197.5,-461 203.5,-461 209.5,-467 209.5,-473 209.5,-473 209.5,-532 209.5,-532 209.5,-538 203.5,-544 197.5,-544\"/>\n<text text-anchor=\"start\" x=\"71.5\" y=\"-528.8\" font-family=\"Helvetica,sans-Serif\" font-size=\"14.00\">petal width (cm) ≤ 0.8</text>\n<text text-anchor=\"start\" x=\"101\" y=\"-513.8\" font-family=\"Helvetica,sans-Serif\" font-size=\"14.00\">gini = 0.664</text>\n<text text-anchor=\"start\" x=\"95.5\" y=\"-498.8\" font-family=\"Helvetica,sans-Serif\" font-size=\"14.00\">samples = 90</text>\n<text text-anchor=\"start\" x=\"78.5\" y=\"-483.8\" font-family=\"Helvetica,sans-Serif\" font-size=\"14.00\">value = [33, 30, 27]</text>\n<text text-anchor=\"start\" x=\"93\" y=\"-468.8\" font-family=\"Helvetica,sans-Serif\" font-size=\"14.00\">class = setosa</text>\n</g>\n<!-- 1 -->\n<g id=\"node2\" class=\"node\">\n<title>1</title>\n<path fill=\"#e58139\" stroke=\"black\" d=\"M105,-417.5C105,-417.5 12,-417.5 12,-417.5 6,-417.5 0,-411.5 0,-405.5 0,-405.5 0,-361.5 0,-361.5 0,-355.5 6,-349.5 12,-349.5 12,-349.5 105,-349.5 105,-349.5 111,-349.5 117,-355.5 117,-361.5 117,-361.5 117,-405.5 117,-405.5 117,-411.5 111,-417.5 105,-417.5\"/>\n<text text-anchor=\"start\" x=\"30.5\" y=\"-402.3\" font-family=\"Helvetica,sans-Serif\" font-size=\"14.00\">gini = 0.0</text>\n<text text-anchor=\"start\" x=\"17.5\" y=\"-387.3\" font-family=\"Helvetica,sans-Serif\" font-size=\"14.00\">samples = 33</text>\n<text text-anchor=\"start\" x=\"8\" y=\"-372.3\" font-family=\"Helvetica,sans-Serif\" font-size=\"14.00\">value = [33, 0, 0]</text>\n<text text-anchor=\"start\" x=\"15\" y=\"-357.3\" font-family=\"Helvetica,sans-Serif\" font-size=\"14.00\">class = setosa</text>\n</g>\n<!-- 0&#45;&gt;1 -->\n<g id=\"edge1\" class=\"edge\">\n<title>0&#45;&gt;1</title>\n<path fill=\"none\" stroke=\"black\" d=\"M109.44,-460.91C101.93,-449.65 93.78,-437.42 86.24,-426.11\"/>\n<polygon fill=\"black\" stroke=\"black\" points=\"89.07,-424.05 80.61,-417.67 83.25,-427.93 89.07,-424.05\"/>\n<text text-anchor=\"middle\" x=\"75.71\" y=\"-438.48\" font-family=\"Helvetica,sans-Serif\" font-size=\"14.00\">True</text>\n</g>\n<!-- 2 -->\n<g id=\"node3\" class=\"node\">\n<title>2</title>\n<path fill=\"#ebfcf2\" stroke=\"black\" d=\"M282,-425C282,-425 147,-425 147,-425 141,-425 135,-419 135,-413 135,-413 135,-354 135,-354 135,-348 141,-342 147,-342 147,-342 282,-342 282,-342 288,-342 294,-348 294,-354 294,-354 294,-413 294,-413 294,-419 288,-425 282,-425\"/>\n<text text-anchor=\"start\" x=\"143\" y=\"-409.8\" font-family=\"Helvetica,sans-Serif\" font-size=\"14.00\">petal length (cm) ≤ 4.75</text>\n<text text-anchor=\"start\" x=\"179\" y=\"-394.8\" font-family=\"Helvetica,sans-Serif\" font-size=\"14.00\">gini = 0.499</text>\n<text text-anchor=\"start\" x=\"173.5\" y=\"-379.8\" font-family=\"Helvetica,sans-Serif\" font-size=\"14.00\">samples = 57</text>\n<text text-anchor=\"start\" x=\"160\" y=\"-364.8\" font-family=\"Helvetica,sans-Serif\" font-size=\"14.00\">value = [0, 30, 27]</text>\n<text text-anchor=\"start\" x=\"162\" y=\"-349.8\" font-family=\"Helvetica,sans-Serif\" font-size=\"14.00\">class = versicolor</text>\n</g>\n<!-- 0&#45;&gt;2 -->\n<g id=\"edge2\" class=\"edge\">\n<title>0&#45;&gt;2</title>\n<path fill=\"none\" stroke=\"black\" d=\"M163.56,-460.91C169.43,-452.1 175.7,-442.7 181.76,-433.61\"/>\n<polygon fill=\"black\" stroke=\"black\" points=\"184.85,-435.28 187.49,-425.02 179.03,-431.4 184.85,-435.28\"/>\n<text text-anchor=\"middle\" x=\"192.39\" y=\"-445.84\" font-family=\"Helvetica,sans-Serif\" font-size=\"14.00\">False</text>\n</g>\n<!-- 3 -->\n<g id=\"node4\" class=\"node\">\n<title>3</title>\n<path fill=\"#39e581\" stroke=\"black\" d=\"M185,-298.5C185,-298.5 88,-298.5 88,-298.5 82,-298.5 76,-292.5 76,-286.5 76,-286.5 76,-242.5 76,-242.5 76,-236.5 82,-230.5 88,-230.5 88,-230.5 185,-230.5 185,-230.5 191,-230.5 197,-236.5 197,-242.5 197,-242.5 197,-286.5 197,-286.5 197,-292.5 191,-298.5 185,-298.5\"/>\n<text text-anchor=\"start\" x=\"108.5\" y=\"-283.3\" font-family=\"Helvetica,sans-Serif\" font-size=\"14.00\">gini = 0.0</text>\n<text text-anchor=\"start\" x=\"95.5\" y=\"-268.3\" font-family=\"Helvetica,sans-Serif\" font-size=\"14.00\">samples = 28</text>\n<text text-anchor=\"start\" x=\"86\" y=\"-253.3\" font-family=\"Helvetica,sans-Serif\" font-size=\"14.00\">value = [0, 28, 0]</text>\n<text text-anchor=\"start\" x=\"84\" y=\"-238.3\" font-family=\"Helvetica,sans-Serif\" font-size=\"14.00\">class = versicolor</text>\n</g>\n<!-- 2&#45;&gt;3 -->\n<g id=\"edge3\" class=\"edge\">\n<title>2&#45;&gt;3</title>\n<path fill=\"none\" stroke=\"black\" d=\"M187.44,-341.91C179.93,-330.65 171.78,-318.42 164.24,-307.11\"/>\n<polygon fill=\"black\" stroke=\"black\" points=\"167.07,-305.05 158.61,-298.67 161.25,-308.93 167.07,-305.05\"/>\n</g>\n<!-- 4 -->\n<g id=\"node5\" class=\"node\">\n<title>4</title>\n<path fill=\"#8a48e7\" stroke=\"black\" d=\"M357.5,-306C357.5,-306 227.5,-306 227.5,-306 221.5,-306 215.5,-300 215.5,-294 215.5,-294 215.5,-235 215.5,-235 215.5,-229 221.5,-223 227.5,-223 227.5,-223 357.5,-223 357.5,-223 363.5,-223 369.5,-229 369.5,-235 369.5,-235 369.5,-294 369.5,-294 369.5,-300 363.5,-306 357.5,-306\"/>\n<text text-anchor=\"start\" x=\"223.5\" y=\"-290.8\" font-family=\"Helvetica,sans-Serif\" font-size=\"14.00\">petal width (cm) ≤ 1.75</text>\n<text text-anchor=\"start\" x=\"257\" y=\"-275.8\" font-family=\"Helvetica,sans-Serif\" font-size=\"14.00\">gini = 0.128</text>\n<text text-anchor=\"start\" x=\"251.5\" y=\"-260.8\" font-family=\"Helvetica,sans-Serif\" font-size=\"14.00\">samples = 29</text>\n<text text-anchor=\"start\" x=\"242\" y=\"-245.8\" font-family=\"Helvetica,sans-Serif\" font-size=\"14.00\">value = [0, 2, 27]</text>\n<text text-anchor=\"start\" x=\"244\" y=\"-230.8\" font-family=\"Helvetica,sans-Serif\" font-size=\"14.00\">class = virginica</text>\n</g>\n<!-- 2&#45;&gt;4 -->\n<g id=\"edge4\" class=\"edge\">\n<title>2&#45;&gt;4</title>\n<path fill=\"none\" stroke=\"black\" d=\"M241.56,-341.91C247.43,-333.1 253.7,-323.7 259.76,-314.61\"/>\n<polygon fill=\"black\" stroke=\"black\" points=\"262.85,-316.28 265.49,-306.02 257.03,-312.4 262.85,-316.28\"/>\n</g>\n<!-- 5 -->\n<g id=\"node6\" class=\"node\">\n<title>5</title>\n<path fill=\"#ffffff\" stroke=\"black\" d=\"M282,-187C282,-187 147,-187 147,-187 141,-187 135,-181 135,-175 135,-175 135,-116 135,-116 135,-110 141,-104 147,-104 147,-104 282,-104 282,-104 288,-104 294,-110 294,-116 294,-116 294,-175 294,-175 294,-181 288,-187 282,-187\"/>\n<text text-anchor=\"start\" x=\"143\" y=\"-171.8\" font-family=\"Helvetica,sans-Serif\" font-size=\"14.00\">petal length (cm) ≤ 5.05</text>\n<text text-anchor=\"start\" x=\"186.5\" y=\"-156.8\" font-family=\"Helvetica,sans-Serif\" font-size=\"14.00\">gini = 0.5</text>\n<text text-anchor=\"start\" x=\"177\" y=\"-141.8\" font-family=\"Helvetica,sans-Serif\" font-size=\"14.00\">samples = 4</text>\n<text text-anchor=\"start\" x=\"167.5\" y=\"-126.8\" font-family=\"Helvetica,sans-Serif\" font-size=\"14.00\">value = [0, 2, 2]</text>\n<text text-anchor=\"start\" x=\"162\" y=\"-111.8\" font-family=\"Helvetica,sans-Serif\" font-size=\"14.00\">class = versicolor</text>\n</g>\n<!-- 4&#45;&gt;5 -->\n<g id=\"edge5\" class=\"edge\">\n<title>4&#45;&gt;5</title>\n<path fill=\"none\" stroke=\"black\" d=\"M265.44,-222.91C259.57,-214.1 253.3,-204.7 247.24,-195.61\"/>\n<polygon fill=\"black\" stroke=\"black\" points=\"249.97,-193.4 241.51,-187.02 244.15,-197.28 249.97,-193.4\"/>\n</g>\n<!-- 8 -->\n<g id=\"node9\" class=\"node\">\n<title>8</title>\n<path fill=\"#8139e5\" stroke=\"black\" d=\"M417,-179.5C417,-179.5 324,-179.5 324,-179.5 318,-179.5 312,-173.5 312,-167.5 312,-167.5 312,-123.5 312,-123.5 312,-117.5 318,-111.5 324,-111.5 324,-111.5 417,-111.5 417,-111.5 423,-111.5 429,-117.5 429,-123.5 429,-123.5 429,-167.5 429,-167.5 429,-173.5 423,-179.5 417,-179.5\"/>\n<text text-anchor=\"start\" x=\"342.5\" y=\"-164.3\" font-family=\"Helvetica,sans-Serif\" font-size=\"14.00\">gini = 0.0</text>\n<text text-anchor=\"start\" x=\"329.5\" y=\"-149.3\" font-family=\"Helvetica,sans-Serif\" font-size=\"14.00\">samples = 25</text>\n<text text-anchor=\"start\" x=\"320\" y=\"-134.3\" font-family=\"Helvetica,sans-Serif\" font-size=\"14.00\">value = [0, 0, 25]</text>\n<text text-anchor=\"start\" x=\"322\" y=\"-119.3\" font-family=\"Helvetica,sans-Serif\" font-size=\"14.00\">class = virginica</text>\n</g>\n<!-- 4&#45;&gt;8 -->\n<g id=\"edge8\" class=\"edge\">\n<title>4&#45;&gt;8</title>\n<path fill=\"none\" stroke=\"black\" d=\"M319.56,-222.91C327.07,-211.65 335.22,-199.42 342.76,-188.11\"/>\n<polygon fill=\"black\" stroke=\"black\" points=\"345.75,-189.93 348.39,-179.67 339.93,-186.05 345.75,-189.93\"/>\n</g>\n<!-- 6 -->\n<g id=\"node7\" class=\"node\">\n<title>6</title>\n<path fill=\"#39e581\" stroke=\"black\" d=\"M196,-68C196,-68 99,-68 99,-68 93,-68 87,-62 87,-56 87,-56 87,-12 87,-12 87,-6 93,0 99,0 99,0 196,0 196,0 202,0 208,-6 208,-12 208,-12 208,-56 208,-56 208,-62 202,-68 196,-68\"/>\n<text text-anchor=\"start\" x=\"119.5\" y=\"-52.8\" font-family=\"Helvetica,sans-Serif\" font-size=\"14.00\">gini = 0.0</text>\n<text text-anchor=\"start\" x=\"110\" y=\"-37.8\" font-family=\"Helvetica,sans-Serif\" font-size=\"14.00\">samples = 2</text>\n<text text-anchor=\"start\" x=\"100.5\" y=\"-22.8\" font-family=\"Helvetica,sans-Serif\" font-size=\"14.00\">value = [0, 2, 0]</text>\n<text text-anchor=\"start\" x=\"95\" y=\"-7.8\" font-family=\"Helvetica,sans-Serif\" font-size=\"14.00\">class = versicolor</text>\n</g>\n<!-- 5&#45;&gt;6 -->\n<g id=\"edge6\" class=\"edge\">\n<title>5&#45;&gt;6</title>\n<path fill=\"none\" stroke=\"black\" d=\"M189.55,-103.73C184.19,-94.97 178.52,-85.7 173.14,-76.91\"/>\n<polygon fill=\"black\" stroke=\"black\" points=\"176.08,-75 167.88,-68.3 170.11,-78.66 176.08,-75\"/>\n</g>\n<!-- 7 -->\n<g id=\"node8\" class=\"node\">\n<title>7</title>\n<path fill=\"#8139e5\" stroke=\"black\" d=\"M327,-68C327,-68 238,-68 238,-68 232,-68 226,-62 226,-56 226,-56 226,-12 226,-12 226,-6 232,0 238,0 238,0 327,0 327,0 333,0 339,-6 339,-12 339,-12 339,-56 339,-56 339,-62 333,-68 327,-68\"/>\n<text text-anchor=\"start\" x=\"254.5\" y=\"-52.8\" font-family=\"Helvetica,sans-Serif\" font-size=\"14.00\">gini = 0.0</text>\n<text text-anchor=\"start\" x=\"245\" y=\"-37.8\" font-family=\"Helvetica,sans-Serif\" font-size=\"14.00\">samples = 2</text>\n<text text-anchor=\"start\" x=\"235.5\" y=\"-22.8\" font-family=\"Helvetica,sans-Serif\" font-size=\"14.00\">value = [0, 0, 2]</text>\n<text text-anchor=\"start\" x=\"234\" y=\"-7.8\" font-family=\"Helvetica,sans-Serif\" font-size=\"14.00\">class = virginica</text>\n</g>\n<!-- 5&#45;&gt;7 -->\n<g id=\"edge7\" class=\"edge\">\n<title>5&#45;&gt;7</title>\n<path fill=\"none\" stroke=\"black\" d=\"M239.82,-103.73C245.26,-94.97 251.01,-85.7 256.48,-76.91\"/>\n<polygon fill=\"black\" stroke=\"black\" points=\"259.52,-78.64 261.82,-68.3 253.57,-74.95 259.52,-78.64\"/>\n</g>\n</g>\n</svg>\n",
      "text/plain": "<graphviz.sources.Source at 0x1dad42ebeb0>"
     },
     "metadata": {},
     "output_type": "display_data"
    },
    {
     "name": "stdout",
     "output_type": "stream",
     "text": [
      "sepal length (cm) | sepal width (cm)  | petal length (cm) | petal width (cm)  | Label             | Prediction\n",
      "--------------------------------------------------------------------------------------------------------------\n",
      "5.0               | 3.6               | 1.4               | 0.2               | setosa            | setosa\n",
      "4.7               | 3.2               | 1.6               | 0.2               | setosa            | setosa\n",
      "5.2               | 3.5               | 1.5               | 0.2               | setosa            | setosa\n",
      "6.9               | 3.1               | 5.1               | 2.3               | virginica         | virginica\n",
      "6.7               | 3.1               | 4.4               | 1.4               | versicolor        | versicolor\n",
      "4.9               | 3.1               | 1.5               | 0.2               | setosa            | setosa\n",
      "5.1               | 3.3               | 1.7               | 0.5               | setosa            | setosa\n",
      "6.7               | 3.0               | 5.2               | 2.3               | virginica         | virginica\n",
      "6.4               | 2.8               | 5.6               | 2.2               | virginica         | virginica\n",
      "6.4               | 2.9               | 4.3               | 1.3               | versicolor        | versicolor\n",
      "6.3               | 3.3               | 4.7               | 1.6               | versicolor        | versicolor\n",
      "4.8               | 3.1               | 1.6               | 0.2               | setosa            | setosa\n",
      "4.9               | 2.5               | 4.5               | 1.7               | virginica         | versicolor\n",
      "7.0               | 3.2               | 4.7               | 1.4               | versicolor        | versicolor\n",
      "6.0               | 2.2               | 5.0               | 1.5               | virginica         | versicolor\n"
     ]
    }
   ],
   "source": [
    "# Visualise the Decision Tree\n",
    "dot_data = sklearn.tree.export_graphviz(model, out_file=None, feature_names=X_feature_names, class_names=y_target_names, filled=True, rounded=True, special_characters=True)  \n",
    "graph = graphviz.Source(dot_data)\n",
    "graph.render(\"iris\")\n",
    "display(graph)\n",
    "\n",
    "# Print examples from the test dataset\n",
    "wdth = max([len(name) for name in X_feature_names] + [len(lab) for lab in y_target_names]) + 1\n",
    "print('| '.join([f'{X_feature_names[i]: <{wdth}}' for i in range(len(X_feature_names))] + [f'{\"Label\":<{wdth}}', \"Prediction\"]))\n",
    "print('-'*110)\n",
    "predicted_labels = model.predict(X_test)\n",
    "num_examples = 15\n",
    "for example, label, predicted_label in zip(X_test[:num_examples], y_test[:num_examples], predicted_labels[:num_examples]):\n",
    "    print('| '.join([f'{example[i]: <{wdth}}' for i in range(len(example))] + [f'{y_target_names[label]: <{wdth}}', f'{y_target_names[predicted_label]}']))"
   ]
  },
  {
   "cell_type": "markdown",
   "metadata": {},
   "source": [
    "Try to answer the following questions for your tree (note that taking the left path from a decision node corresponds to the condition in that node being true):\n",
    "1. What features are most informative for identifying the Iris Setosa species and what values must they have? \n",
    "2. What features can be used to discriminate between Iris Virginica and Iris Versicolor if the petals are longer than 4.75cm (hint: look at the paths through the decision tree from root to leaf)?\n",
    "3. Choose one of the examples from the data set and follow the path that would be taken by the decision tree to produce a classification.\n",
    "4. If we had more training data, which decision nodes do you think are most likely to change (hint: look at numbers of samples)?\n",
    "5. Which decision nodes do you think may lead to the most errors if we deploy this model on a new test dataset? "
   ]
  },
  {
   "cell_type": "markdown",
   "metadata": {},
   "source": [
    "### 1.3) Train a decision tree for MNIST\n",
    "\n",
    "For the iris dataset, we saw that our classifier was able to perform extremely well because of the dataset's simplicity. In this section, we will try to apply a decision tree to a more challenging dataset, the MNIST handwritten digits (as seen in week 5)."
   ]
  },
  {
   "cell_type": "code",
   "execution_count": 73,
   "metadata": {},
   "outputs": [],
   "source": [
    "# load the MNIST data\n",
    "X_mnist, y_mnist = fetch_openml(name='mnist_784',return_X_y=True)\n",
    "random.seed(5)\n",
    "frac_of_dataset = 0.5\n",
    "index = int(frac_of_dataset*X_mnist.shape[0])\n"
   ]
  },
  {
   "cell_type": "code",
   "execution_count": 74,
   "outputs": [],
   "source": [
    "X_train, X_test, y_train, y_test = train_test_split(X_mnist[:index], y_mnist[:index], test_size=0.2)"
   ],
   "metadata": {
    "collapsed": false
   }
  },
  {
   "cell_type": "markdown",
   "metadata": {},
   "source": [
    "Just like you did before, create and train a decision tree using scikit-learn and using the variable name `model`."
   ]
  },
  {
   "cell_type": "code",
   "execution_count": 75,
   "metadata": {},
   "outputs": [],
   "source": [
    "# write your code to train a decision tree classifier here\n",
    "\n",
    "\n",
    "model = DecisionTreeClassifier(random_state=0).fit(X_train, y_train)"
   ]
  },
  {
   "cell_type": "markdown",
   "metadata": {},
   "source": [
    "### 1.4) Compute the model's accuracy on MNIST train and test sets \n",
    "\n",
    "Compare the performance on train and test sets."
   ]
  },
  {
   "cell_type": "code",
   "execution_count": 76,
   "metadata": {},
   "outputs": [
    {
     "name": "stdout",
     "output_type": "stream",
     "text": [
      "1.0\n",
      "0.851\n"
     ]
    }
   ],
   "source": [
    "# write your code here\n",
    "print(model.score(X_train, y_train))\n",
    "print(model.score(X_test, y_test))"
   ]
  },
  {
   "cell_type": "markdown",
   "metadata": {},
   "source": [
    "Is the model overfitting on the MNIST data?"
   ]
  },
  {
   "cell_type": "markdown",
   "metadata": {},
   "source": [
    "## 2) Bagging\n",
    "The combination of models can often perform much better than the average individual, and sometimes better than the best individual. Ensemble methods are ways of combining multiple models together. For good performance, the models should be diverse to minimise the expected error of the ensemble.\n",
    "\n",
    "Bagging or 'bootstrap aggregation' is a simple ensemble method that induces diversity by training $M$ models on different samples of the training set (with replacement) and combining predictions by taking the mean or majority vote. An approximate bagging algorithm is:\n",
    "1. For $m = 1,...,M$ models:\n",
    "    - Randomly sample $N$ data points with replacement from the training set\n",
    "    - Learn a decision tree (CART algorithm) on the subset of points\n",
    "2. A prediction can be obtained by taking the majority vote over the $M$ model outputs.\n",
    "\n",
    "### 2.1) Train a bagging ensemble\n",
    "\n",
    "Complete the code below to train a bagging ensemble by randomly sampling from the MNIST training dataset to train multiple decision tress. "
   ]
  },
  {
   "cell_type": "code",
   "execution_count": 77,
   "metadata": {
    "scrolled": true
   },
   "outputs": [],
   "source": [
    "num_models = 20\n",
    "sample_size = 2000  # training set size.\n",
    "np.random.seed(0)\n",
    "import random\n",
    "all_models = []\n",
    "for m in range(num_models):\n",
    "    # TODO\n",
    "    # Sample with replacement from the training set. \n",
    "    # Each sample should contain sample_size data points chosen at random.\n",
    "    # Hint: look at the documentation for numpy.random.choice().\n",
    "    X_sample = X_train.sample(n=sample_size, replace=True)\n",
    "    y_sample = y_train[X_sample.index]\n",
    "\n",
    "    \n",
    "    # TODO\n",
    "    # train a decision tree classifier on the random sample.\n",
    "    model = DecisionTreeClassifier(random_state=0).fit(X_sample, y_sample)\n",
    "    \n",
    "    all_models.append(model)"
   ]
  },
  {
   "cell_type": "markdown",
   "metadata": {},
   "source": [
    "### 2.2) Implement bagging prediction\n",
    "\n",
    "Complete the `bagging_predict` function and then run the next cell to create predictions from the bagging ensemble based on majority voting of the individual models. "
   ]
  },
  {
   "cell_type": "code",
   "execution_count": 78,
   "metadata": {},
   "outputs": [],
   "source": [
    "# count how many classifiers have voted for each class for each point in the test dataset.\n",
    "def bagging_predict(test_data, all_models):\n",
    "    votes = np.zeros((test_data.shape[0], len(all_models)))  # number of classes = 10.\n",
    "    combined_predictions = np.zeros(test_data.shape[0])\n",
    "\n",
    "    for idx, m in enumerate(all_models):\n",
    "        # TODO\n",
    "        # obtain the predictions from model m for the test data and\n",
    "        # populate the votes vector\n",
    "        #for data_idx, data in enumerate(test_data):\n",
    "        votes[:, idx] = m.predict(test_data)\n",
    "        \n",
    "    for test_point in range(votes.shape[0]):\n",
    "        # TODO\n",
    "        # determine the class with the most votes for each test point\n",
    "        # and populate the combined_predictions \n",
    "        # hint use np.bincount\n",
    "        combined_predictions[test_point] = np.argmax(np.bincount(int64(votes[test_point])))\n",
    "        \n",
    "    \n",
    "    return combined_predictions"
   ]
  },
  {
   "cell_type": "code",
   "execution_count": 79,
   "metadata": {},
   "outputs": [
    {
     "name": "stdout",
     "output_type": "stream",
     "text": [
      "Test set accuracy: 0.9027142857142857\n"
     ]
    }
   ],
   "source": [
    "prediction = bagging_predict(X_test, all_models)\n",
    "accuracy = np.count_nonzero(prediction==int64(y_test))/y_test.shape[0]\n",
    "print(\"Test set accuracy: {}\".format(accuracy))"
   ]
  },
  {
   "cell_type": "markdown",
   "metadata": {},
   "source": [
    "How does the accuracy compare to a single decision tree? \n",
    "\n",
    "Investigate the effect of changing the `sample_size` and `num_models` hyperparameters."
   ]
  },
  {
   "cell_type": "markdown",
   "metadata": {},
   "source": [
    "## 3) Random Forests\n",
    "With bagging, the base models (individual decision trees) make similar splits on the same features, meaning that their errors are correlated and this reduces the diversity of the ensemble and limits performance.\n",
    "\n",
    "Random forests improve the diversity of the base models by limiting the number of features considered for determining each split in the decision tree. We can obtain the random forest by modifying the bagging algorithm above so that each split for each model uses only a random subset of features.\n",
    "\n",
    "### 3.1) Implement Random Forest Training\n",
    "\n",
    "Copy in your code for the bagging procedure and modify it to implement random forest. The outline code below shows you where to make the modifications."
   ]
  },
  {
   "cell_type": "code",
   "execution_count": 80,
   "metadata": {},
   "outputs": [],
   "source": [
    "num_models = 20\n",
    "sample_size = 2000  # training set size.\n",
    "feature_sample_size = 200\n",
    "np.random.seed(0)\n",
    "\n",
    "all_models = []\n",
    "all_selected_features = []  # for each model, save the list of selected feature indexes.\n",
    "for m in range(num_models):\n",
    "\n",
    "    # TODO\n",
    "    # copy in your code from the bagging exercise here to sample with replacement from the training set. \n",
    "    # Each sample should contain sample_size data points chosen at random.\n",
    "    # Hint: look at the documentation for numpy.random.choice().\n",
    "    X_train_sample = X_train.sample(n=sample_size, replace=True)\n",
    "    y_train_sample = y_train[X_train_sample.index]\n",
    "    # X_sample = X_train.sample(n=sample_size, replace=True)\n",
    "    # y_sample = y_train[X_sample.index]\n",
    "\n",
    "\n",
    "    # TODO\n",
    "    # create a decision tree classifier with limited features considered\n",
    "    # for each split\n",
    "    model = DecisionTreeClassifier(random_state=0, max_features=feature_sample_size).fit(X_train_sample, y_train_sample)\n",
    "    \n",
    "    # TODO\n",
    "    # copy in your code from the bagging exercise here to train a decision tree classifier on the random sample.\n",
    "    # Remember to train it only on the random sample of features.\n",
    "\n",
    "    \n",
    "    all_models.append(model)"
   ]
  },
  {
   "cell_type": "markdown",
   "metadata": {},
   "source": [
    "### 3.2) Random Forest Prediction\n",
    "\n",
    "Use the `bagging_predict` function from Section 2.2 to generate predictions for the random forest and calculate the accuracy."
   ]
  },
  {
   "cell_type": "code",
   "execution_count": 81,
   "metadata": {},
   "outputs": [
    {
     "name": "stdout",
     "output_type": "stream",
     "text": [
      "Test set accuracy: 0.9092857142857143\n"
     ]
    }
   ],
   "source": [
    "prediction = bagging_predict(X_test, all_models)\n",
    "accuracy = np.count_nonzero(prediction==int64(y_test))/y_test.shape[0]\n",
    "print(\"Test set accuracy: {}\".format(accuracy))"
   ]
  },
  {
   "cell_type": "markdown",
   "metadata": {},
   "source": [
    "How does the performance of the random forest compare to bagging and the single model? Can you improve the performance by changing the hyperparameters?"
   ]
  },
  {
   "cell_type": "markdown",
   "metadata": {},
   "source": [
    "## 4) Boosting\n",
    "We can use a decision tree classifier as the base model for the ensemble method known as boosting. Boosting involves training base models in sequence to ensure that each base model addresses the weaknesses of the ensemble. Instead of training a new base model on a random sample, we weight the data points in the training set according to the performance of previous base models.\n",
    "\n",
    "AdaBoost (adaptive boosting) is a popular boosting method, where training examples that are misclassified by one of the base classifiers are given greater weight when used to train the next classifier in the sequence. Once all the classifiers have been trained, their predictions are then combined through a weighted majority voting scheme.\n",
    "\n",
    "The AdaBoost algorithm which you will implement is given below:\n",
    "1. Initialize the data weighting coefficients $w_n$ by setting $w_n^{(1)} = 1/N$ for $ n = 1,...,N$ where $N$ is the number of training examples\n",
    "2. For $m = 1,...,M$ models:\n",
    "    - Fit a classifier $y_m(x)$ to a subset of the training data by minimising the weighted error function (hint: specify the `sample_weight` when fitting the model using scikit-learn).\n",
    "    - Calculate the weighted error, $\\epsilon_m$, where $$\\epsilon_m = 1 - \\text{weighted_accuracy} = 1 - \\frac{\\sum_{n=1}^N{w_nI(y_m(x_n) = t_n)}}{\\sum_{n=1}^N{w_n}}$$\n",
    "    and $I$ is the indicator function that equals $1$ when the condition is true (hint: the computation for the weighted accuracy is done for you if `sample_weight` is specified when calling the [`score`](https://scikit-learn.org/stable/modules/generated/sklearn.tree.DecisionTreeClassifier.html#sklearn.tree.DecisionTreeClassifier.score) function).\n",
    "    - Calculate the model weighting coefficients, $\\alpha_m$, where\n",
    "    $$\\alpha_m = ln\\left(\\frac{1-\\epsilon_m}{\\epsilon_m}\\right)$$\n",
    "    - Update the data weighting coefficients\n",
    "    $$w_n^{(m+1)} = w_n^{(m)} exp(\\alpha_m \\space I(y_m(x_n) \\neq t_n))$$ where, again, $I$ is the indicator function.\n",
    "3. The final prediction is a weighted combination of the trained base classifiers weighted by $\\alpha_m$.\n",
    "    \n",
    "For more information on boosting, see Bishop section 14.3.\n",
    "\n",
    "### 4.1) Train an ensemble model using the AdaBoost algorithm"
   ]
  },
  {
   "cell_type": "code",
   "execution_count": 82,
   "outputs": [
    {
     "data": {
      "text/plain": "Int64Index([12513, 18842, 16295, 33510, 15980,  8809,  1727, 18455, 10842,\n            19561,\n            ...\n            13867,  5294, 10269, 24179, 32151, 11557, 28888, 20726, 12995,\n            16364],\n           dtype='int64', length=2000)"
     },
     "execution_count": 82,
     "metadata": {},
     "output_type": "execute_result"
    }
   ],
   "source": [
    "X_train_sample.index"
   ],
   "metadata": {
    "collapsed": false
   }
  },
  {
   "cell_type": "code",
   "execution_count": 83,
   "outputs": [
    {
     "name": "stdout",
     "output_type": "stream",
     "text": [
      "34996\n"
     ]
    }
   ],
   "source": [
    "print(max(X_train_sample.index))"
   ],
   "metadata": {
    "collapsed": false
   }
  },
  {
   "cell_type": "code",
   "execution_count": 98,
   "outputs": [],
   "source": [],
   "metadata": {
    "collapsed": false
   }
  },
  {
   "cell_type": "code",
   "execution_count": 100,
   "outputs": [
    {
     "data": {
      "text/plain": "(28000, 784)"
     },
     "execution_count": 100,
     "metadata": {},
     "output_type": "execute_result"
    }
   ],
   "source": [
    "X_train.shape"
   ],
   "metadata": {
    "collapsed": false
   }
  },
  {
   "cell_type": "code",
   "execution_count": 101,
   "metadata": {},
   "outputs": [
    {
     "name": "stdout",
     "output_type": "stream",
     "text": [
      "(28000, 784)\n"
     ]
    }
   ],
   "source": [
    "num_models = 200 # number of base classifiers\n",
    "sample_size = 2000  # sample training set size.\n",
    "np.random.seed(0)\n",
    "\n",
    "# TODO\n",
    "# initialise the sample weights for all data points in the training set.\n",
    "sample_weight = np.ones(X_train.shape[0])/X_train.shape[0]\n",
    "print(X_train.shape)\n",
    "alphas = []\n",
    "all_models = []\n",
    "for m in range(num_models):\n",
    "    # TODO\n",
    "    # copy in your code from the bagging exercise here to sample with replacement from the training set. \n",
    "    # Each sample should contain sample_size data points chosen at random.\n",
    "    # Hint: look at the documentation for numpy.random.choice().\n",
    "    sample_idx = np.random.choice(X_train.shape[0], sample_size)\n",
    "    X_train_sample, y_train_sample = X_train.iloc[sample_idx], y_train.iloc[sample_idx]\n",
    "    # X_train_sample = X_train.sample(n=sample_size, replace=True)\n",
    "    #\n",
    "    # y_train_sample = y_train[X_train_sample.index]\n",
    "    # print(X_train_sample.index)\n",
    "    \n",
    "    # TODO\n",
    "    # train a decision tree classifier on the weighted random sample.\n",
    "    # Consider setting the max_depth hyperparameter\n",
    "    # Hint: fit() takes an additional argument, 'sample_weight'.\n",
    "    model = DecisionTreeClassifier(random_state=0,\n",
    "                                   max_depth=10).fit(X_train_sample, y_train_sample, sample_weight=sample_weight[sample_idx])\n",
    "    \n",
    "    # TODO\n",
    "    # compute the model error using weighted accuracy for the sampled training dataset\n",
    "    # Hint: score() score takes an additional argument, 'sample_weight'.\n",
    "    model_error = 1 - model.score(X_train_sample, y_train_sample, sample_weight=sample_weight[sample_idx])\n",
    "    \n",
    "    # TODO\n",
    "    # calculate alpha for the model and append alpha to alphas\n",
    "    alpha = np.log((1-model_error)/model_error)\n",
    "    alphas.append(alpha)\n",
    "    \n",
    "    # TODO\n",
    "    # update the sample_weights for incorrect predictions using alpha\n",
    "    incorrect_preds = model.predict(X_train_sample) != y_train_sample\n",
    "    sample_weight[X_train_sample.index] *= np.exp(alpha * incorrect_preds)\n",
    "    \n",
    "    all_models.append(model)"
   ]
  },
  {
   "cell_type": "code",
   "execution_count": 95,
   "outputs": [
    {
     "data": {
      "text/plain": "       level_0  index  pixel1  pixel2  pixel3  pixel4  pixel5  pixel6  pixel7  \\\n0            0  23153     0.0     0.0     0.0     0.0     0.0     0.0     0.0   \n1            1  23997     0.0     0.0     0.0     0.0     0.0     0.0     0.0   \n2            2  10419     0.0     0.0     0.0     0.0     0.0     0.0     0.0   \n3            3  34902     0.0     0.0     0.0     0.0     0.0     0.0     0.0   \n4            4    778     0.0     0.0     0.0     0.0     0.0     0.0     0.0   \n...        ...    ...     ...     ...     ...     ...     ...     ...     ...   \n27995    27995  33508     0.0     0.0     0.0     0.0     0.0     0.0     0.0   \n27996    27996  33800     0.0     0.0     0.0     0.0     0.0     0.0     0.0   \n27997    27997   5520     0.0     0.0     0.0     0.0     0.0     0.0     0.0   \n27998    27998  20463     0.0     0.0     0.0     0.0     0.0     0.0     0.0   \n27999    27999  18638     0.0     0.0     0.0     0.0     0.0     0.0     0.0   \n\n       pixel8  ...  pixel775  pixel776  pixel777  pixel778  pixel779  \\\n0         0.0  ...       0.0       0.0       0.0       0.0       0.0   \n1         0.0  ...       0.0       0.0       0.0       0.0       0.0   \n2         0.0  ...       0.0       0.0       0.0       0.0       0.0   \n3         0.0  ...       0.0       0.0       0.0       0.0       0.0   \n4         0.0  ...       0.0       0.0       0.0       0.0       0.0   \n...       ...  ...       ...       ...       ...       ...       ...   \n27995     0.0  ...       0.0       0.0       0.0       0.0       0.0   \n27996     0.0  ...       0.0       0.0       0.0       0.0       0.0   \n27997     0.0  ...       0.0       0.0       0.0       0.0       0.0   \n27998     0.0  ...       0.0       0.0       0.0       0.0       0.0   \n27999     0.0  ...       0.0       0.0       0.0       0.0       0.0   \n\n       pixel780  pixel781  pixel782  pixel783  pixel784  \n0           0.0       0.0       0.0       0.0       0.0  \n1           0.0       0.0       0.0       0.0       0.0  \n2           0.0       0.0       0.0       0.0       0.0  \n3           0.0       0.0       0.0       0.0       0.0  \n4           0.0       0.0       0.0       0.0       0.0  \n...         ...       ...       ...       ...       ...  \n27995       0.0       0.0       0.0       0.0       0.0  \n27996       0.0       0.0       0.0       0.0       0.0  \n27997       0.0       0.0       0.0       0.0       0.0  \n27998       0.0       0.0       0.0       0.0       0.0  \n27999       0.0       0.0       0.0       0.0       0.0  \n\n[28000 rows x 786 columns]",
      "text/html": "<div>\n<style scoped>\n    .dataframe tbody tr th:only-of-type {\n        vertical-align: middle;\n    }\n\n    .dataframe tbody tr th {\n        vertical-align: top;\n    }\n\n    .dataframe thead th {\n        text-align: right;\n    }\n</style>\n<table border=\"1\" class=\"dataframe\">\n  <thead>\n    <tr style=\"text-align: right;\">\n      <th></th>\n      <th>level_0</th>\n      <th>index</th>\n      <th>pixel1</th>\n      <th>pixel2</th>\n      <th>pixel3</th>\n      <th>pixel4</th>\n      <th>pixel5</th>\n      <th>pixel6</th>\n      <th>pixel7</th>\n      <th>pixel8</th>\n      <th>...</th>\n      <th>pixel775</th>\n      <th>pixel776</th>\n      <th>pixel777</th>\n      <th>pixel778</th>\n      <th>pixel779</th>\n      <th>pixel780</th>\n      <th>pixel781</th>\n      <th>pixel782</th>\n      <th>pixel783</th>\n      <th>pixel784</th>\n    </tr>\n  </thead>\n  <tbody>\n    <tr>\n      <th>0</th>\n      <td>0</td>\n      <td>23153</td>\n      <td>0.0</td>\n      <td>0.0</td>\n      <td>0.0</td>\n      <td>0.0</td>\n      <td>0.0</td>\n      <td>0.0</td>\n      <td>0.0</td>\n      <td>0.0</td>\n      <td>...</td>\n      <td>0.0</td>\n      <td>0.0</td>\n      <td>0.0</td>\n      <td>0.0</td>\n      <td>0.0</td>\n      <td>0.0</td>\n      <td>0.0</td>\n      <td>0.0</td>\n      <td>0.0</td>\n      <td>0.0</td>\n    </tr>\n    <tr>\n      <th>1</th>\n      <td>1</td>\n      <td>23997</td>\n      <td>0.0</td>\n      <td>0.0</td>\n      <td>0.0</td>\n      <td>0.0</td>\n      <td>0.0</td>\n      <td>0.0</td>\n      <td>0.0</td>\n      <td>0.0</td>\n      <td>...</td>\n      <td>0.0</td>\n      <td>0.0</td>\n      <td>0.0</td>\n      <td>0.0</td>\n      <td>0.0</td>\n      <td>0.0</td>\n      <td>0.0</td>\n      <td>0.0</td>\n      <td>0.0</td>\n      <td>0.0</td>\n    </tr>\n    <tr>\n      <th>2</th>\n      <td>2</td>\n      <td>10419</td>\n      <td>0.0</td>\n      <td>0.0</td>\n      <td>0.0</td>\n      <td>0.0</td>\n      <td>0.0</td>\n      <td>0.0</td>\n      <td>0.0</td>\n      <td>0.0</td>\n      <td>...</td>\n      <td>0.0</td>\n      <td>0.0</td>\n      <td>0.0</td>\n      <td>0.0</td>\n      <td>0.0</td>\n      <td>0.0</td>\n      <td>0.0</td>\n      <td>0.0</td>\n      <td>0.0</td>\n      <td>0.0</td>\n    </tr>\n    <tr>\n      <th>3</th>\n      <td>3</td>\n      <td>34902</td>\n      <td>0.0</td>\n      <td>0.0</td>\n      <td>0.0</td>\n      <td>0.0</td>\n      <td>0.0</td>\n      <td>0.0</td>\n      <td>0.0</td>\n      <td>0.0</td>\n      <td>...</td>\n      <td>0.0</td>\n      <td>0.0</td>\n      <td>0.0</td>\n      <td>0.0</td>\n      <td>0.0</td>\n      <td>0.0</td>\n      <td>0.0</td>\n      <td>0.0</td>\n      <td>0.0</td>\n      <td>0.0</td>\n    </tr>\n    <tr>\n      <th>4</th>\n      <td>4</td>\n      <td>778</td>\n      <td>0.0</td>\n      <td>0.0</td>\n      <td>0.0</td>\n      <td>0.0</td>\n      <td>0.0</td>\n      <td>0.0</td>\n      <td>0.0</td>\n      <td>0.0</td>\n      <td>...</td>\n      <td>0.0</td>\n      <td>0.0</td>\n      <td>0.0</td>\n      <td>0.0</td>\n      <td>0.0</td>\n      <td>0.0</td>\n      <td>0.0</td>\n      <td>0.0</td>\n      <td>0.0</td>\n      <td>0.0</td>\n    </tr>\n    <tr>\n      <th>...</th>\n      <td>...</td>\n      <td>...</td>\n      <td>...</td>\n      <td>...</td>\n      <td>...</td>\n      <td>...</td>\n      <td>...</td>\n      <td>...</td>\n      <td>...</td>\n      <td>...</td>\n      <td>...</td>\n      <td>...</td>\n      <td>...</td>\n      <td>...</td>\n      <td>...</td>\n      <td>...</td>\n      <td>...</td>\n      <td>...</td>\n      <td>...</td>\n      <td>...</td>\n      <td>...</td>\n    </tr>\n    <tr>\n      <th>27995</th>\n      <td>27995</td>\n      <td>33508</td>\n      <td>0.0</td>\n      <td>0.0</td>\n      <td>0.0</td>\n      <td>0.0</td>\n      <td>0.0</td>\n      <td>0.0</td>\n      <td>0.0</td>\n      <td>0.0</td>\n      <td>...</td>\n      <td>0.0</td>\n      <td>0.0</td>\n      <td>0.0</td>\n      <td>0.0</td>\n      <td>0.0</td>\n      <td>0.0</td>\n      <td>0.0</td>\n      <td>0.0</td>\n      <td>0.0</td>\n      <td>0.0</td>\n    </tr>\n    <tr>\n      <th>27996</th>\n      <td>27996</td>\n      <td>33800</td>\n      <td>0.0</td>\n      <td>0.0</td>\n      <td>0.0</td>\n      <td>0.0</td>\n      <td>0.0</td>\n      <td>0.0</td>\n      <td>0.0</td>\n      <td>0.0</td>\n      <td>...</td>\n      <td>0.0</td>\n      <td>0.0</td>\n      <td>0.0</td>\n      <td>0.0</td>\n      <td>0.0</td>\n      <td>0.0</td>\n      <td>0.0</td>\n      <td>0.0</td>\n      <td>0.0</td>\n      <td>0.0</td>\n    </tr>\n    <tr>\n      <th>27997</th>\n      <td>27997</td>\n      <td>5520</td>\n      <td>0.0</td>\n      <td>0.0</td>\n      <td>0.0</td>\n      <td>0.0</td>\n      <td>0.0</td>\n      <td>0.0</td>\n      <td>0.0</td>\n      <td>0.0</td>\n      <td>...</td>\n      <td>0.0</td>\n      <td>0.0</td>\n      <td>0.0</td>\n      <td>0.0</td>\n      <td>0.0</td>\n      <td>0.0</td>\n      <td>0.0</td>\n      <td>0.0</td>\n      <td>0.0</td>\n      <td>0.0</td>\n    </tr>\n    <tr>\n      <th>27998</th>\n      <td>27998</td>\n      <td>20463</td>\n      <td>0.0</td>\n      <td>0.0</td>\n      <td>0.0</td>\n      <td>0.0</td>\n      <td>0.0</td>\n      <td>0.0</td>\n      <td>0.0</td>\n      <td>0.0</td>\n      <td>...</td>\n      <td>0.0</td>\n      <td>0.0</td>\n      <td>0.0</td>\n      <td>0.0</td>\n      <td>0.0</td>\n      <td>0.0</td>\n      <td>0.0</td>\n      <td>0.0</td>\n      <td>0.0</td>\n      <td>0.0</td>\n    </tr>\n    <tr>\n      <th>27999</th>\n      <td>27999</td>\n      <td>18638</td>\n      <td>0.0</td>\n      <td>0.0</td>\n      <td>0.0</td>\n      <td>0.0</td>\n      <td>0.0</td>\n      <td>0.0</td>\n      <td>0.0</td>\n      <td>0.0</td>\n      <td>...</td>\n      <td>0.0</td>\n      <td>0.0</td>\n      <td>0.0</td>\n      <td>0.0</td>\n      <td>0.0</td>\n      <td>0.0</td>\n      <td>0.0</td>\n      <td>0.0</td>\n      <td>0.0</td>\n      <td>0.0</td>\n    </tr>\n  </tbody>\n</table>\n<p>28000 rows × 786 columns</p>\n</div>"
     },
     "execution_count": 95,
     "metadata": {},
     "output_type": "execute_result"
    }
   ],
   "source": [
    "X_train"
   ],
   "metadata": {
    "collapsed": false
   }
  },
  {
   "cell_type": "markdown",
   "metadata": {},
   "source": [
    "### 4.2) Adaboost prediction\n",
    "Complete the `boosting_predict` function to produce predictions from the trained models. In addition to the test data and the trained models, the function also takes the list of $\\alpha_m$ as an input which determines the weighting of each individual model on the overall output."
   ]
  },
  {
   "cell_type": "code",
   "execution_count": 94,
   "outputs": [
    {
     "data": {
      "text/plain": "(7000, 784)"
     },
     "execution_count": 94,
     "metadata": {},
     "output_type": "execute_result"
    }
   ],
   "source": [
    "X_test.shape"
   ],
   "metadata": {
    "collapsed": false
   }
  },
  {
   "cell_type": "code",
   "execution_count": 92,
   "metadata": {},
   "outputs": [],
   "source": [
    "def boosting_predict(test_data, all_models, alphas):\n",
    "    votes = np.zeros((test_data.shape[0], len(all_models))) \n",
    "    combined_predictions = np.zeros(test_data.shape[0])\n",
    "\n",
    "    for idx, m in enumerate(all_models):\n",
    "        # TODO\n",
    "        # write your code here to obtain the predictions from model m and store it in votes.\n",
    "        votes[:, idx] = m.predict(test_data)\n",
    "    \n",
    "    for test_point in range(len(votes)):\n",
    "        # TODO\n",
    "        # determine the class with the most votes for each test point and store it in combined_predictions\n",
    "        # hint: remember the weighting alpha\n",
    "        combined_predictions[test_point] = np.argmax(np.bincount(int64(votes[test_point]), alphas))\n",
    "    \n",
    "    return combined_predictions"
   ]
  },
  {
   "cell_type": "code",
   "execution_count": 102,
   "metadata": {},
   "outputs": [
    {
     "name": "stdout",
     "output_type": "stream",
     "text": [
      "Test set accuracy: 0.937\n"
     ]
    }
   ],
   "source": [
    "prediction = boosting_predict(X_test, all_models, alphas)\n",
    "accuracy = np.count_nonzero(prediction==int64(y_test))/y_test.shape[0]\n",
    "print(\"Test set accuracy: {}\".format(accuracy))"
   ]
  },
  {
   "cell_type": "markdown",
   "metadata": {},
   "source": [
    "How does performance compare with the other approaches?\n",
    "\n",
    "Try out different values of `sample_size`, `num_models` and `max_depth` of the decision tree.\n",
    "\n",
    "How does training time vary for each approach as you change these ensemble parameters? "
   ]
  },
  {
   "cell_type": "markdown",
   "metadata": {},
   "source": [
    "## Wrap up\n",
    "\n",
    "We trained and visualised a decision tree classifier, which showed how decision trees can provide an interpretable model for classification. We then implemented bagging to improve performance, then extended it to the Random Forest and Boosting methods. This should give some idea of how these three key ensemble methods are related to one another. Random Forest adds random sampling over features, while boosting re-weights the dataset at each iteration to focus on misclassified data points.\n",
    "\n",
    "### References\n",
    "- COMS30035 Machine Learning lecture notes.\n",
    "- Bishop Pattern Recognition and Machine Learning: Chapter 14.\n",
    "\n",
    "#### Materials used to create the lab\n",
    "- https://github.com/TrainingByPackt/Applied-Supervised-Learning-with-Python/blob/master/Chapter%204%20-%20Classification/Exercise%2042%20-%20Iris%20Classification%20Using%20a%20CART%20Decision%20Tree.ipynb\n",
    "- https://plsms.github.io/kaggle/learn/2%20Machine%20Learning/Level%201/11%20Exercise;%20Random%20Forests.html\n",
    "- https://towardsdatascience.com/how-to-visualize-a-decision-tree-from-a-random-forest-in-python-using-scikit-learn-38ad2d75f21c\n",
    "- https://www.kaggle.com/jmohitj/practicing-playing-with-mnist-decision-tree\n"
   ]
  }
 ],
 "metadata": {
  "kernelspec": {
   "display_name": "Python 3",
   "language": "python",
   "name": "python3"
  },
  "language_info": {
   "codemirror_mode": {
    "name": "ipython",
    "version": 3
   },
   "file_extension": ".py",
   "mimetype": "text/x-python",
   "name": "python",
   "nbconvert_exporter": "python",
   "pygments_lexer": "ipython3",
   "version": "3.8.5"
  }
 },
 "nbformat": 4,
 "nbformat_minor": 4
}
